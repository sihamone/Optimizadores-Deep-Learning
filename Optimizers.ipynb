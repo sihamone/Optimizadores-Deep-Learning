{
  "cells": [
    {
      "cell_type": "markdown",
      "metadata": {
        "id": "view-in-github",
        "colab_type": "text"
      },
      "source": [
        "<a href=\"https://colab.research.google.com/github/sihamone/lol/blob/main/Optimizers.ipynb\" target=\"_parent\"><img src=\"https://colab.research.google.com/assets/colab-badge.svg\" alt=\"Open In Colab\"/></a>"
      ]
    },
    {
      "cell_type": "code",
      "execution_count": null,
      "metadata": {
        "id": "auaqKUAuFRwJ"
      },
      "outputs": [],
      "source": [
        "import numpy as np\n",
        "import pandas as pd\n",
        "import matplotlib.pyplot as plt\n",
        "#problema para predecir la claidad de aire\n",
        "#tieene dos contaminantes y otras componentes del aire"
      ]
    },
    {
      "cell_type": "code",
      "execution_count": null,
      "metadata": {
        "id": "R7BOD99kHvAZ"
      },
      "outputs": [],
      "source": [
        "# Usaremos la base de datos: Beijing Multi-Site Air-Quality Data Data Set,\n",
        "# la cual puede ser obtenida desde https://archive.ics.uci.edu/ml/datasets/Beijing+Multi-Site+Air-Quality+Data\n",
        "# (revisar la página para más detalles sobre los datos)\n",
        "# Se ha proporcionado un archivo csv con la información obtenida de la estación\n",
        "# de monitoreo Aotizhongxin, el cual contiene 35,064 registros.\n",
        "\n",
        "# El objetivo es poder predecir la concetración de PM2.5 y de PM10 a partir de las\n",
        "# variables año, mes, día, hora, temperatura, presión, punto de rocío,\n",
        "# precipitación y velocidad del viento.\n",
        "\n",
        "#creo se podría cambiar: el porcentaje de training y test\n",
        "# el activation sigma, la cosa de optimización, quitar variables que no importan, talvez quitar outliers,"
      ]
    },
    {
      "cell_type": "markdown",
      "metadata": {
        "id": "oN6aBWNOWrY7"
      },
      "source": [
        "# Part 1: Load data into Colab"
      ]
    },
    {
      "cell_type": "code",
      "execution_count": null,
      "metadata": {
        "colab": {
          "base_uri": "https://localhost:8080/",
          "height": 73,
          "resources": {
            "http://localhost:8080/nbextensions/google.colab/files.js": {
              "data": "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",
              "headers": [
                [
                  "content-type",
                  "application/javascript"
                ]
              ],
              "ok": true,
              "status": 200,
              "status_text": ""
            }
          }
        },
        "id": "kB4uTQwSFkVr",
        "outputId": "b8108b59-3a36-47d9-9b54-cbf45b12b70c"
      },
      "outputs": [
        {
          "output_type": "display_data",
          "data": {
            "text/html": [
              "\n",
              "     <input type=\"file\" id=\"files-1ff6f2f9-ba6a-45fc-b729-8249059a680b\" name=\"files[]\" multiple disabled\n",
              "        style=\"border:none\" />\n",
              "     <output id=\"result-1ff6f2f9-ba6a-45fc-b729-8249059a680b\">\n",
              "      Upload widget is only available when the cell has been executed in the\n",
              "      current browser session. Please rerun this cell to enable.\n",
              "      </output>\n",
              "      <script src=\"/nbextensions/google.colab/files.js\"></script> "
            ],
            "text/plain": [
              "<IPython.core.display.HTML object>"
            ]
          },
          "metadata": {}
        },
        {
          "output_type": "stream",
          "name": "stdout",
          "text": [
            "Saving PRSA_Aotizhongxin.csv to PRSA_Aotizhongxin.csv\n"
          ]
        }
      ],
      "source": [
        "# Requiered to select a file to be imported from your G drive\n",
        "from google.colab import files\n",
        "uploaded = files.upload()"
      ]
    },
    {
      "cell_type": "code",
      "execution_count": null,
      "metadata": {
        "colab": {
          "base_uri": "https://localhost:8080/",
          "height": 424
        },
        "id": "JwhYkkpoGG8y",
        "outputId": "ec2dc265-1410-48e0-d786-012a9df1e3b4"
      },
      "outputs": [
        {
          "output_type": "execute_result",
          "data": {
            "text/html": [
              "\n",
              "  <div id=\"df-508040ad-7ddf-40fa-88ec-5331cdef0548\">\n",
              "    <div class=\"colab-df-container\">\n",
              "      <div>\n",
              "<style scoped>\n",
              "    .dataframe tbody tr th:only-of-type {\n",
              "        vertical-align: middle;\n",
              "    }\n",
              "\n",
              "    .dataframe tbody tr th {\n",
              "        vertical-align: top;\n",
              "    }\n",
              "\n",
              "    .dataframe thead th {\n",
              "        text-align: right;\n",
              "    }\n",
              "</style>\n",
              "<table border=\"1\" class=\"dataframe\">\n",
              "  <thead>\n",
              "    <tr style=\"text-align: right;\">\n",
              "      <th></th>\n",
              "      <th>No</th>\n",
              "      <th>year</th>\n",
              "      <th>month</th>\n",
              "      <th>day</th>\n",
              "      <th>hour</th>\n",
              "      <th>PM2.5</th>\n",
              "      <th>PM10</th>\n",
              "      <th>SO2</th>\n",
              "      <th>NO2</th>\n",
              "      <th>CO</th>\n",
              "      <th>O3</th>\n",
              "      <th>TEMP</th>\n",
              "      <th>PRES</th>\n",
              "      <th>DEWP</th>\n",
              "      <th>RAIN</th>\n",
              "      <th>wd</th>\n",
              "      <th>WSPM</th>\n",
              "      <th>station</th>\n",
              "    </tr>\n",
              "  </thead>\n",
              "  <tbody>\n",
              "    <tr>\n",
              "      <th>0</th>\n",
              "      <td>1</td>\n",
              "      <td>2013</td>\n",
              "      <td>3</td>\n",
              "      <td>1</td>\n",
              "      <td>0</td>\n",
              "      <td>4.0</td>\n",
              "      <td>4.0</td>\n",
              "      <td>4.0</td>\n",
              "      <td>7.0</td>\n",
              "      <td>300.0</td>\n",
              "      <td>77.0</td>\n",
              "      <td>-0.7</td>\n",
              "      <td>1023.0</td>\n",
              "      <td>-18.8</td>\n",
              "      <td>0.0</td>\n",
              "      <td>NNW</td>\n",
              "      <td>4.4</td>\n",
              "      <td>Aotizhongxin</td>\n",
              "    </tr>\n",
              "    <tr>\n",
              "      <th>1</th>\n",
              "      <td>2</td>\n",
              "      <td>2013</td>\n",
              "      <td>3</td>\n",
              "      <td>1</td>\n",
              "      <td>1</td>\n",
              "      <td>8.0</td>\n",
              "      <td>8.0</td>\n",
              "      <td>4.0</td>\n",
              "      <td>7.0</td>\n",
              "      <td>300.0</td>\n",
              "      <td>77.0</td>\n",
              "      <td>-1.1</td>\n",
              "      <td>1023.2</td>\n",
              "      <td>-18.2</td>\n",
              "      <td>0.0</td>\n",
              "      <td>N</td>\n",
              "      <td>4.7</td>\n",
              "      <td>Aotizhongxin</td>\n",
              "    </tr>\n",
              "    <tr>\n",
              "      <th>2</th>\n",
              "      <td>3</td>\n",
              "      <td>2013</td>\n",
              "      <td>3</td>\n",
              "      <td>1</td>\n",
              "      <td>2</td>\n",
              "      <td>7.0</td>\n",
              "      <td>7.0</td>\n",
              "      <td>5.0</td>\n",
              "      <td>10.0</td>\n",
              "      <td>300.0</td>\n",
              "      <td>73.0</td>\n",
              "      <td>-1.1</td>\n",
              "      <td>1023.5</td>\n",
              "      <td>-18.2</td>\n",
              "      <td>0.0</td>\n",
              "      <td>NNW</td>\n",
              "      <td>5.6</td>\n",
              "      <td>Aotizhongxin</td>\n",
              "    </tr>\n",
              "    <tr>\n",
              "      <th>3</th>\n",
              "      <td>4</td>\n",
              "      <td>2013</td>\n",
              "      <td>3</td>\n",
              "      <td>1</td>\n",
              "      <td>3</td>\n",
              "      <td>6.0</td>\n",
              "      <td>6.0</td>\n",
              "      <td>11.0</td>\n",
              "      <td>11.0</td>\n",
              "      <td>300.0</td>\n",
              "      <td>72.0</td>\n",
              "      <td>-1.4</td>\n",
              "      <td>1024.5</td>\n",
              "      <td>-19.4</td>\n",
              "      <td>0.0</td>\n",
              "      <td>NW</td>\n",
              "      <td>3.1</td>\n",
              "      <td>Aotizhongxin</td>\n",
              "    </tr>\n",
              "    <tr>\n",
              "      <th>4</th>\n",
              "      <td>5</td>\n",
              "      <td>2013</td>\n",
              "      <td>3</td>\n",
              "      <td>1</td>\n",
              "      <td>4</td>\n",
              "      <td>3.0</td>\n",
              "      <td>3.0</td>\n",
              "      <td>12.0</td>\n",
              "      <td>12.0</td>\n",
              "      <td>300.0</td>\n",
              "      <td>72.0</td>\n",
              "      <td>-2.0</td>\n",
              "      <td>1025.2</td>\n",
              "      <td>-19.5</td>\n",
              "      <td>0.0</td>\n",
              "      <td>N</td>\n",
              "      <td>2.0</td>\n",
              "      <td>Aotizhongxin</td>\n",
              "    </tr>\n",
              "    <tr>\n",
              "      <th>...</th>\n",
              "      <td>...</td>\n",
              "      <td>...</td>\n",
              "      <td>...</td>\n",
              "      <td>...</td>\n",
              "      <td>...</td>\n",
              "      <td>...</td>\n",
              "      <td>...</td>\n",
              "      <td>...</td>\n",
              "      <td>...</td>\n",
              "      <td>...</td>\n",
              "      <td>...</td>\n",
              "      <td>...</td>\n",
              "      <td>...</td>\n",
              "      <td>...</td>\n",
              "      <td>...</td>\n",
              "      <td>...</td>\n",
              "      <td>...</td>\n",
              "      <td>...</td>\n",
              "    </tr>\n",
              "    <tr>\n",
              "      <th>35059</th>\n",
              "      <td>35060</td>\n",
              "      <td>2017</td>\n",
              "      <td>2</td>\n",
              "      <td>28</td>\n",
              "      <td>19</td>\n",
              "      <td>12.0</td>\n",
              "      <td>29.0</td>\n",
              "      <td>5.0</td>\n",
              "      <td>35.0</td>\n",
              "      <td>400.0</td>\n",
              "      <td>95.0</td>\n",
              "      <td>12.5</td>\n",
              "      <td>1013.5</td>\n",
              "      <td>-16.2</td>\n",
              "      <td>0.0</td>\n",
              "      <td>NW</td>\n",
              "      <td>2.4</td>\n",
              "      <td>Aotizhongxin</td>\n",
              "    </tr>\n",
              "    <tr>\n",
              "      <th>35060</th>\n",
              "      <td>35061</td>\n",
              "      <td>2017</td>\n",
              "      <td>2</td>\n",
              "      <td>28</td>\n",
              "      <td>20</td>\n",
              "      <td>13.0</td>\n",
              "      <td>37.0</td>\n",
              "      <td>7.0</td>\n",
              "      <td>45.0</td>\n",
              "      <td>500.0</td>\n",
              "      <td>81.0</td>\n",
              "      <td>11.6</td>\n",
              "      <td>1013.6</td>\n",
              "      <td>-15.1</td>\n",
              "      <td>0.0</td>\n",
              "      <td>WNW</td>\n",
              "      <td>0.9</td>\n",
              "      <td>Aotizhongxin</td>\n",
              "    </tr>\n",
              "    <tr>\n",
              "      <th>35061</th>\n",
              "      <td>35062</td>\n",
              "      <td>2017</td>\n",
              "      <td>2</td>\n",
              "      <td>28</td>\n",
              "      <td>21</td>\n",
              "      <td>16.0</td>\n",
              "      <td>37.0</td>\n",
              "      <td>10.0</td>\n",
              "      <td>66.0</td>\n",
              "      <td>700.0</td>\n",
              "      <td>58.0</td>\n",
              "      <td>10.8</td>\n",
              "      <td>1014.2</td>\n",
              "      <td>-13.3</td>\n",
              "      <td>0.0</td>\n",
              "      <td>NW</td>\n",
              "      <td>1.1</td>\n",
              "      <td>Aotizhongxin</td>\n",
              "    </tr>\n",
              "    <tr>\n",
              "      <th>35062</th>\n",
              "      <td>35063</td>\n",
              "      <td>2017</td>\n",
              "      <td>2</td>\n",
              "      <td>28</td>\n",
              "      <td>22</td>\n",
              "      <td>21.0</td>\n",
              "      <td>44.0</td>\n",
              "      <td>12.0</td>\n",
              "      <td>87.0</td>\n",
              "      <td>700.0</td>\n",
              "      <td>35.0</td>\n",
              "      <td>10.5</td>\n",
              "      <td>1014.4</td>\n",
              "      <td>-12.9</td>\n",
              "      <td>0.0</td>\n",
              "      <td>NNW</td>\n",
              "      <td>1.2</td>\n",
              "      <td>Aotizhongxin</td>\n",
              "    </tr>\n",
              "    <tr>\n",
              "      <th>35063</th>\n",
              "      <td>35064</td>\n",
              "      <td>2017</td>\n",
              "      <td>2</td>\n",
              "      <td>28</td>\n",
              "      <td>23</td>\n",
              "      <td>19.0</td>\n",
              "      <td>31.0</td>\n",
              "      <td>10.0</td>\n",
              "      <td>79.0</td>\n",
              "      <td>600.0</td>\n",
              "      <td>42.0</td>\n",
              "      <td>8.6</td>\n",
              "      <td>1014.1</td>\n",
              "      <td>-15.9</td>\n",
              "      <td>0.0</td>\n",
              "      <td>NNE</td>\n",
              "      <td>1.3</td>\n",
              "      <td>Aotizhongxin</td>\n",
              "    </tr>\n",
              "  </tbody>\n",
              "</table>\n",
              "<p>31815 rows × 18 columns</p>\n",
              "</div>\n",
              "      <button class=\"colab-df-convert\" onclick=\"convertToInteractive('df-508040ad-7ddf-40fa-88ec-5331cdef0548')\"\n",
              "              title=\"Convert this dataframe to an interactive table.\"\n",
              "              style=\"display:none;\">\n",
              "        \n",
              "  <svg xmlns=\"http://www.w3.org/2000/svg\" height=\"24px\"viewBox=\"0 0 24 24\"\n",
              "       width=\"24px\">\n",
              "    <path d=\"M0 0h24v24H0V0z\" fill=\"none\"/>\n",
              "    <path d=\"M18.56 5.44l.94 2.06.94-2.06 2.06-.94-2.06-.94-.94-2.06-.94 2.06-2.06.94zm-11 1L8.5 8.5l.94-2.06 2.06-.94-2.06-.94L8.5 2.5l-.94 2.06-2.06.94zm10 10l.94 2.06.94-2.06 2.06-.94-2.06-.94-.94-2.06-.94 2.06-2.06.94z\"/><path d=\"M17.41 7.96l-1.37-1.37c-.4-.4-.92-.59-1.43-.59-.52 0-1.04.2-1.43.59L10.3 9.45l-7.72 7.72c-.78.78-.78 2.05 0 2.83L4 21.41c.39.39.9.59 1.41.59.51 0 1.02-.2 1.41-.59l7.78-7.78 2.81-2.81c.8-.78.8-2.07 0-2.86zM5.41 20L4 18.59l7.72-7.72 1.47 1.35L5.41 20z\"/>\n",
              "  </svg>\n",
              "      </button>\n",
              "      \n",
              "  <style>\n",
              "    .colab-df-container {\n",
              "      display:flex;\n",
              "      flex-wrap:wrap;\n",
              "      gap: 12px;\n",
              "    }\n",
              "\n",
              "    .colab-df-convert {\n",
              "      background-color: #E8F0FE;\n",
              "      border: none;\n",
              "      border-radius: 50%;\n",
              "      cursor: pointer;\n",
              "      display: none;\n",
              "      fill: #1967D2;\n",
              "      height: 32px;\n",
              "      padding: 0 0 0 0;\n",
              "      width: 32px;\n",
              "    }\n",
              "\n",
              "    .colab-df-convert:hover {\n",
              "      background-color: #E2EBFA;\n",
              "      box-shadow: 0px 1px 2px rgba(60, 64, 67, 0.3), 0px 1px 3px 1px rgba(60, 64, 67, 0.15);\n",
              "      fill: #174EA6;\n",
              "    }\n",
              "\n",
              "    [theme=dark] .colab-df-convert {\n",
              "      background-color: #3B4455;\n",
              "      fill: #D2E3FC;\n",
              "    }\n",
              "\n",
              "    [theme=dark] .colab-df-convert:hover {\n",
              "      background-color: #434B5C;\n",
              "      box-shadow: 0px 1px 3px 1px rgba(0, 0, 0, 0.15);\n",
              "      filter: drop-shadow(0px 1px 2px rgba(0, 0, 0, 0.3));\n",
              "      fill: #FFFFFF;\n",
              "    }\n",
              "  </style>\n",
              "\n",
              "      <script>\n",
              "        const buttonEl =\n",
              "          document.querySelector('#df-508040ad-7ddf-40fa-88ec-5331cdef0548 button.colab-df-convert');\n",
              "        buttonEl.style.display =\n",
              "          google.colab.kernel.accessAllowed ? 'block' : 'none';\n",
              "\n",
              "        async function convertToInteractive(key) {\n",
              "          const element = document.querySelector('#df-508040ad-7ddf-40fa-88ec-5331cdef0548');\n",
              "          const dataTable =\n",
              "            await google.colab.kernel.invokeFunction('convertToInteractive',\n",
              "                                                     [key], {});\n",
              "          if (!dataTable) return;\n",
              "\n",
              "          const docLinkHtml = 'Like what you see? Visit the ' +\n",
              "            '<a target=\"_blank\" href=https://colab.research.google.com/notebooks/data_table.ipynb>data table notebook</a>'\n",
              "            + ' to learn more about interactive tables.';\n",
              "          element.innerHTML = '';\n",
              "          dataTable['output_type'] = 'display_data';\n",
              "          await google.colab.output.renderOutput(dataTable, element);\n",
              "          const docLink = document.createElement('div');\n",
              "          docLink.innerHTML = docLinkHtml;\n",
              "          element.appendChild(docLink);\n",
              "        }\n",
              "      </script>\n",
              "    </div>\n",
              "  </div>\n",
              "  "
            ],
            "text/plain": [
              "          No  year  month  day  hour  PM2.5  PM10   SO2   NO2     CO    O3  \\\n",
              "0          1  2013      3    1     0    4.0   4.0   4.0   7.0  300.0  77.0   \n",
              "1          2  2013      3    1     1    8.0   8.0   4.0   7.0  300.0  77.0   \n",
              "2          3  2013      3    1     2    7.0   7.0   5.0  10.0  300.0  73.0   \n",
              "3          4  2013      3    1     3    6.0   6.0  11.0  11.0  300.0  72.0   \n",
              "4          5  2013      3    1     4    3.0   3.0  12.0  12.0  300.0  72.0   \n",
              "...      ...   ...    ...  ...   ...    ...   ...   ...   ...    ...   ...   \n",
              "35059  35060  2017      2   28    19   12.0  29.0   5.0  35.0  400.0  95.0   \n",
              "35060  35061  2017      2   28    20   13.0  37.0   7.0  45.0  500.0  81.0   \n",
              "35061  35062  2017      2   28    21   16.0  37.0  10.0  66.0  700.0  58.0   \n",
              "35062  35063  2017      2   28    22   21.0  44.0  12.0  87.0  700.0  35.0   \n",
              "35063  35064  2017      2   28    23   19.0  31.0  10.0  79.0  600.0  42.0   \n",
              "\n",
              "       TEMP    PRES  DEWP  RAIN   wd  WSPM       station  \n",
              "0      -0.7  1023.0 -18.8   0.0  NNW   4.4  Aotizhongxin  \n",
              "1      -1.1  1023.2 -18.2   0.0    N   4.7  Aotizhongxin  \n",
              "2      -1.1  1023.5 -18.2   0.0  NNW   5.6  Aotizhongxin  \n",
              "3      -1.4  1024.5 -19.4   0.0   NW   3.1  Aotizhongxin  \n",
              "4      -2.0  1025.2 -19.5   0.0    N   2.0  Aotizhongxin  \n",
              "...     ...     ...   ...   ...  ...   ...           ...  \n",
              "35059  12.5  1013.5 -16.2   0.0   NW   2.4  Aotizhongxin  \n",
              "35060  11.6  1013.6 -15.1   0.0  WNW   0.9  Aotizhongxin  \n",
              "35061  10.8  1014.2 -13.3   0.0   NW   1.1  Aotizhongxin  \n",
              "35062  10.5  1014.4 -12.9   0.0  NNW   1.2  Aotizhongxin  \n",
              "35063   8.6  1014.1 -15.9   0.0  NNE   1.3  Aotizhongxin  \n",
              "\n",
              "[31815 rows x 18 columns]"
            ]
          },
          "metadata": {},
          "execution_count": 4
        }
      ],
      "source": [
        "# Import file and store it in a data frame\n",
        "import io\n",
        "df = pd.read_csv(io.BytesIO(uploaded['PRSA_Aotizhongxin.csv'])) # Cambia al nombre del archivo que cargues\n",
        "df.dropna(inplace=True)\n",
        "df\n",
        "# Quedan 31,815 registros despues de eliminar NaN's\n",
        "# queremos predecir PM2.10 y PM10 con todas las demás variables(¿será que necesitamos todas?)"
      ]
    },
    {
      "cell_type": "markdown",
      "metadata": {
        "id": "7AnH6VY-W09n"
      },
      "source": [
        "# Part 2: Format data and split it into numpy arrays"
      ]
    },
    {
      "cell_type": "code",
      "execution_count": null,
      "metadata": {
        "id": "OaRBLIHNdrSN"
      },
      "outputs": [],
      "source": [
        "# AUX function to put categorical data into one-hot encoding format\n",
        "# recuerda que un one-hot encoding format es un vector de tamaño de clases (de prob conjunta)\n",
        "# Vamos a meter los datos categorizados en el formato one-hot encoding\n",
        "from sklearn.preprocessing import OneHotEncoder\n",
        "def winddir_to_categorical(winddir):\n",
        "  enc = OneHotEncoder(sparse=False)\n",
        "  WD = enc.fit_transform(winddir)\n",
        "  print(\"== categories:\", enc.categories_, \"==\")\n",
        "  return WD"
      ]
    },
    {
      "cell_type": "code",
      "execution_count": null,
      "metadata": {
        "colab": {
          "base_uri": "https://localhost:8080/",
          "height": 682
        },
        "id": "dFhZ5cEGSk2e",
        "outputId": "9b9687db-88e0-49df-b2af-ad533a76ca3e"
      },
      "outputs": [
        {
          "output_type": "stream",
          "name": "stdout",
          "text": [
            "== categories: [array(['E', 'ENE', 'ESE', 'N', 'NE', 'NNE', 'NNW', 'NW', 'S', 'SE', 'SSE',\n",
            "       'SSW', 'SW', 'W', 'WNW', 'WSW'], dtype=object)] ==\n",
            "Input values X with shape (31815, 25). With values\n",
            " min = [ 2.013e+03  1.000e+00  1.000e+00  0.000e+00 -1.680e+01  9.859e+02\n",
            " -3.530e+01  0.000e+00  0.000e+00  0.000e+00  0.000e+00  0.000e+00\n",
            "  0.000e+00  0.000e+00  0.000e+00  0.000e+00  0.000e+00  0.000e+00\n",
            "  0.000e+00  0.000e+00  0.000e+00  0.000e+00  0.000e+00  0.000e+00\n",
            "  0.000e+00]\n",
            " mean = [2.01471491e+03 6.40188590e+00 1.55785636e+01 1.16247996e+01\n",
            " 1.37756108e+01 1.01180038e+03 3.24110640e+00 6.82351092e-02\n",
            " 1.72047148e+00 7.51532296e-02 1.12619833e-01 5.05421971e-02\n",
            " 5.86830112e-02 1.43988685e-01 6.99984284e-02 4.45073079e-02\n",
            " 5.37482320e-02 3.81581015e-02 3.91010530e-02 2.96715386e-02\n",
            " 6.03488920e-02 9.57724344e-02 3.36005029e-02 3.14002829e-02\n",
            " 6.27062706e-02]\n",
            " stdd = [ 1.16251735  3.41679338  8.79481542  6.92676545 11.36885668 10.33870697\n",
            " 13.66764783  0.83747595  1.20422141  0.26363843  0.31612752  0.21906091\n",
            "  0.23503046  0.35107826  0.25514437  0.20621932  0.2255202   0.19157782\n",
            "  0.1938354   0.16967952  0.23813211  0.29427891  0.18019853  0.17439698\n",
            "  0.2424339 ]\n",
            " max = [2.017e+03 1.200e+01 3.100e+01 2.300e+01 4.050e+01 1.042e+03 2.850e+01\n",
            " 4.640e+01 1.120e+01 1.000e+00 1.000e+00 1.000e+00 1.000e+00 1.000e+00\n",
            " 1.000e+00 1.000e+00 1.000e+00 1.000e+00 1.000e+00 1.000e+00 1.000e+00\n",
            " 1.000e+00 1.000e+00 1.000e+00 1.000e+00]\n"
          ]
        },
        {
          "output_type": "display_data",
          "data": {
            "image/png": "[encoded data removed]",
            "text/plain": [
              "<Figure size 432x288 with 1 Axes>"
            ]
          },
          "metadata": {
            "needs_background": "light"
          }
        }
      ],
      "source": [
        "# Extract input features and convert them to a numpy array\n",
        "X = df[['year', 'month', 'day', 'hour', 'TEMP', 'PRES', 'DEWP', 'RAIN', 'WSPM' ]].to_numpy()\n",
        "# Vemos que hay overfitting abajo, entonces talvez para mejorarlo podríamos quitarle categorías o características\n",
        "# Talvez no valga la pena tener el día y hr y el dew point temperatura DEWP pues ya tenemos temperatura\n",
        "#tmb talvez quitar el Wind Speed WSPM para quedarnos con pocas variables\n",
        "# interesa identificar y eliminar las variables irrelevantes.\n",
        "#Porque no siempre el mejor modelo es el que más variables tiene en cuenta.\n",
        "#Porque se mejora el rendimiento computacional, lo que se traduce en un ahorro en coste y tiempo\n",
        "#Porque se reduce la complejidad, lo que lleva a facilitar la comprensión del modelo y sus resultados.\n",
        "\n",
        "#X = df[[\"year\",'month', \"day\",\"hour\",'TEMP', 'PRES','DEWP',\"RAIN\", \"WSPM\"]].to_numpy()\n",
        "WD = winddir_to_categorical(df[['wd']])\n",
        "X = np.concatenate((X, WD), axis=1)\n",
        "\n",
        "print(f\"Input values X with shape {X.shape}. With values\")\n",
        "\n",
        "\n",
        "print(f\" min = {X.min(axis=0)}\") #sacamos el mínimo\n",
        "print(f\" mean = {X.mean(axis=0)}\") #el promedio\n",
        "print(f\" stdd = {X.std(axis=0)}\") #la desviación estándar\n",
        "print(f\" max = {X.max(axis=0)}\") #el máximo\n",
        "\n",
        "plt.boxplot(X)\n",
        "plt.show()"
      ]
    },
    {
      "cell_type": "code",
      "execution_count": null,
      "metadata": {
        "colab": {
          "base_uri": "https://localhost:8080/"
        },
        "id": "jYRlMeTlmOQK",
        "outputId": "530c6f11-ff8e-4202-ddce-f7db9eb9d721"
      },
      "outputs": [
        {
          "output_type": "execute_result",
          "data": {
            "text/plain": [
              "array([[2.013e+03, 3.000e+00, 1.000e+00, ..., 0.000e+00, 0.000e+00,\n",
              "        0.000e+00],\n",
              "       [2.013e+03, 3.000e+00, 1.000e+00, ..., 0.000e+00, 0.000e+00,\n",
              "        0.000e+00],\n",
              "       [2.013e+03, 3.000e+00, 1.000e+00, ..., 0.000e+00, 0.000e+00,\n",
              "        0.000e+00],\n",
              "       ...,\n",
              "       [2.017e+03, 2.000e+00, 2.800e+01, ..., 0.000e+00, 0.000e+00,\n",
              "        0.000e+00],\n",
              "       [2.017e+03, 2.000e+00, 2.800e+01, ..., 0.000e+00, 0.000e+00,\n",
              "        0.000e+00],\n",
              "       [2.017e+03, 2.000e+00, 2.800e+01, ..., 0.000e+00, 0.000e+00,\n",
              "        0.000e+00]])"
            ]
          },
          "metadata": {},
          "execution_count": 7
        }
      ],
      "source": [
        "X"
      ]
    },
    {
      "cell_type": "code",
      "execution_count": null,
      "metadata": {
        "colab": {
          "base_uri": "https://localhost:8080/",
          "height": 716
        },
        "id": "MwImDcVGg5O7",
        "outputId": "acf9e76b-0fb2-4080-e7e0-a1086e45fd2b"
      },
      "outputs": [
        {
          "output_type": "stream",
          "name": "stdout",
          "text": [
            "[2.01471491e+03 6.40188590e+00 1.55785636e+01 1.16247996e+01\n",
            " 1.37756108e+01 1.01180038e+03 3.24110640e+00 6.82351092e-02\n",
            " 1.72047148e+00 7.51532296e-02 1.12619833e-01 5.05421971e-02\n",
            " 5.86830112e-02 1.43988685e-01 6.99984284e-02 4.45073079e-02\n",
            " 5.37482320e-02 3.81581015e-02 3.91010530e-02 2.96715386e-02\n",
            " 6.03488920e-02 9.57724344e-02 3.36005029e-02 3.14002829e-02\n",
            " 6.27062706e-02]\n",
            " min = [-1.47517312 -1.58098114 -1.65763156 -1.67824358 -2.68941826 -2.50518608\n",
            " -2.81987851 -0.0814771  -1.42870029 -0.28506174 -0.35624812 -0.23072212\n",
            " -0.24968258 -0.41013273 -0.27434832 -0.21582511 -0.23833001 -0.19917808\n",
            " -0.20172298 -0.17486812 -0.2534261  -0.32544784 -0.1864638  -0.18005062\n",
            " -0.25865307]\n",
            " mean = [ 2.53620974e-13 -5.20961380e-15 -1.40856471e-15 -1.27022216e-17\n",
            " -1.02426039e-14 -1.09446446e-12 -5.83953233e-16  2.22055074e-15\n",
            "  1.58522417e-14  1.72582712e-14 -4.05981498e-15  1.36230193e-14\n",
            "  1.06470074e-14 -1.71220957e-14 -1.80721207e-14  1.59185533e-15\n",
            " -1.52863037e-14 -9.66857167e-16 -1.04650289e-14 -9.16496697e-17\n",
            "  7.44947610e-15 -1.07559691e-14 -7.01441105e-15 -7.47533943e-15\n",
            " -1.16311731e-14]\n",
            " stdd = [1. 1. 1. 1. 1. 1. 1. 1. 1. 1. 1. 1. 1. 1. 1. 1. 1. 1. 1. 1. 1. 1. 1. 1.\n",
            " 1.]\n",
            " max = [ 1.96563574  1.63841165  1.75346903  1.64220955  2.35066639  2.92102439\n",
            "  1.84807905 55.32309879  7.87191495  3.50801198  2.80703236  4.33421824\n",
            "  4.00508514  2.43823505  3.64500138  4.63338109  4.19586262  5.02063288\n",
            "  4.9572935   5.71859515  3.94592353  3.07268902  5.36297113  5.55399377\n",
            "  3.86618267]\n"
          ]
        },
        {
          "output_type": "display_data",
          "data": {
            "image/png": "[encoded data removed]",
            "text/plain": [
              "<Figure size 432x288 with 1 Axes>"
            ]
          },
          "metadata": {
            "needs_background": "light"
          }
        }
      ],
      "source": [
        "# Normalize (zero-center) and standardize (scale) input data\n",
        "from sklearn.preprocessing import StandardScaler  #normaliza entre 0 y 1 todo\n",
        "scalerX = StandardScaler()\n",
        "X = scalerX.fit_transform(X)\n",
        "print(scalerX.mean_)\n",
        "\n",
        "print(f\" min = {X.min(axis=0)}\")\n",
        "print(f\" mean = {X.mean(axis=0)}\")\n",
        "print(f\" stdd = {X.std(axis=0)}\")\n",
        "print(f\" max = {X.max(axis=0)}\")\n",
        "\n",
        "plt.boxplot(X)\n",
        "plt.show()\n",
        "\n",
        "#Standar Scaler es x´=x-mux/sigma x (gaunianiza) en deep learning se usa mucho esta\n",
        "#MinMax  x´=x-min(x)/max(x) todo queda entre 0 y 1 pero el riesgo es que si tenemos un outlier\n",
        "#puede hacer que todo se reescale medio feo."
      ]
    },
    {
      "cell_type": "code",
      "execution_count": null,
      "metadata": {
        "colab": {
          "base_uri": "https://localhost:8080/",
          "height": 352
        },
        "id": "dA2VIaEEHGwA",
        "outputId": "f566d734-2302-4f16-d9d7-4ea51f7de662"
      },
      "outputs": [
        {
          "output_type": "stream",
          "name": "stdout",
          "text": [
            "Target values Y with shape (31815, 2). With values\n",
            " min = [3. 2.]\n",
            " mean = [81.86363036 58.97633192]\n",
            " stdd = [80.44822547 37.06080184]\n",
            " max = [713. 290.]\n"
          ]
        },
        {
          "output_type": "display_data",
          "data": {
            "image/png": "[encoded data removed]",
            "text/plain": [
              "<Figure size 432x288 with 1 Axes>"
            ]
          },
          "metadata": {
            "needs_background": "light"
          }
        }
      ],
      "source": [
        "# Extract output features and convert them to a numpy array\n",
        "Y = df[['PM2.5', 'NO2']].to_numpy()\n",
        "\n",
        "print(f\"Target values Y with shape {Y.shape}. With values\")\n",
        "print(f\" min = {Y.min(axis=0)}\")\n",
        "print(f\" mean = {Y.mean(axis=0)}\")\n",
        "print(f\" stdd = {Y.std(axis=0)}\")\n",
        "print(f\" max = {Y.max(axis=0)}\")\n",
        "\n",
        "plt.boxplot(Y)\n",
        "plt.show()"
      ]
    },
    {
      "cell_type": "code",
      "execution_count": null,
      "metadata": {
        "colab": {
          "base_uri": "https://localhost:8080/",
          "height": 352
        },
        "id": "d4nkvcV3MmC9",
        "outputId": "00937a1f-8fb3-4c8b-d260-e646e4dc0d36"
      },
      "outputs": [
        {
          "output_type": "stream",
          "name": "stdout",
          "text": [
            "[81.86363036 58.97633192]\n",
            " min = [-0.98030292 -1.53737451]\n",
            " mean = [-3.21603501e-17  1.42934889e-17]\n",
            " stdd = [1. 1.]\n",
            " max = [7.84524911 6.23363923]\n"
          ]
        },
        {
          "output_type": "display_data",
          "data": {
            "image/png": "[encoded data removed]",
            "text/plain": [
              "<Figure size 432x288 with 1 Axes>"
            ]
          },
          "metadata": {
            "needs_background": "light"
          }
        }
      ],
      "source": [
        "# Normalize (zero-center) and standardize (scale) output data\n",
        "scalerY = StandardScaler()\n",
        "Y = scalerY.fit_transform(Y)\n",
        "print(scalerY.mean_)\n",
        "\n",
        "print(f\" min = {Y.min(axis=0)}\")\n",
        "print(f\" mean = {Y.mean(axis=0)}\")\n",
        "print(f\" stdd = {Y.std(axis=0)}\")\n",
        "print(f\" max = {Y.max(axis=0)}\")\n",
        "\n",
        "plt.boxplot(Y)\n",
        "plt.show()"
      ]
    },
    {
      "cell_type": "code",
      "execution_count": null,
      "metadata": {
        "colab": {
          "base_uri": "https://localhost:8080/"
        },
        "id": "zAKGr2d4W_OU",
        "outputId": "7dd8b0f8-a26e-48fe-bc83-65c4eaa980de"
      },
      "outputs": [
        {
          "output_type": "stream",
          "name": "stdout",
          "text": [
            "(30224, 25)\n",
            "(30224, 2)\n",
            "(1591, 25)\n",
            "(1591, 2)\n"
          ]
        }
      ],
      "source": [
        "# Split data into train+val and test sets\n",
        "#Hay 31,815 registros\n",
        "# Vamos a usar 95% de los datos para el training y el 5% de los datos para el test\n",
        "# 31,815*.05= 1591 y 31,815*.95 = 30,224\n",
        "from sklearn.model_selection import train_test_split\n",
        "x_train, x_test, y_train, y_test = train_test_split(X, Y, test_size=0.05)\n",
        "# tomamoslos datos ya normalizados del vector X y Y\n",
        "# El vector X tiene 25 categorías y el vector Y tiene dos la PMS y NO2 que son los q queremos predecir\n",
        "print(x_train.shape)\n",
        "print(y_train.shape)\n",
        "print(x_test.shape)\n",
        "print(y_test.shape)"
      ]
    },
    {
      "cell_type": "code",
      "execution_count": null,
      "metadata": {
        "colab": {
          "base_uri": "https://localhost:8080/",
          "height": 295
        },
        "id": "7dQRDsU4znyI",
        "outputId": "fd788cbc-eb66-498f-ba4d-90f56f9a351d"
      },
      "outputs": [
        {
          "output_type": "display_data",
          "data": {
            "image/png": "[encoded data removed]",
            "text/plain": [
              "<Figure size 432x288 with 1 Axes>"
            ]
          },
          "metadata": {
            "needs_background": "light"
          }
        }
      ],
      "source": [
        "# Plot y_test\n",
        "# Esta gráfica es para ver sólo si los sets de entrenamiento y test cubren las mismas\n",
        "# áreas (¿tienen la misma distribución?). No se espera que los puntos coincidan ya que\n",
        "# son dos sets distintos.\n",
        "# normalizar hace los datos mas comparables\n",
        "plt.scatter(y_train[:, 0], y_train[:, 1], c='r', s=2, label='y_train')\n",
        "plt.scatter(y_test[:, 0], y_test[:, 1], c='b', s=2, label='y_test')\n",
        "\n",
        "plt.legend()\n",
        "plt.grid(True)\n",
        "plt.xlabel('PM2.5')\n",
        "plt.ylabel('NO2')\n",
        "plt.title('Outputs')\n",
        "plt.show()\n",
        "\n",
        "#Pronosticar dos variables\n",
        "#division de los datos de entrenamineto y datos de test\n",
        "#la distribución de los rojos incluye a los de las azules\n",
        "#si predigo la de los rojos puedo predecir la de los azules\n",
        "#peude q algunso puntos puedan ser difiicles pero los demás se podrían.\n",
        "#tal vez los de datos de la fecha son irrelevantes (talvez quitando variables funcione mejor)"
      ]
    },
    {
      "cell_type": "markdown",
      "metadata": {
        "id": "dreChfyNYqsB"
      },
      "source": [
        "# Part 3: Create DNN model and train it"
      ]
    },
    {
      "cell_type": "code",
      "execution_count": null,
      "metadata": {
        "id": "JO90QIV_HZyX"
      },
      "outputs": [],
      "source": [
        "# tensorflow imports\n",
        "import tensorflow as tf\n",
        "from tensorflow.keras.models import Sequential\n",
        "from tensorflow.keras.layers import Input, Dense"
      ]
    },
    {
      "cell_type": "code",
      "execution_count": null,
      "metadata": {
        "colab": {
          "base_uri": "https://localhost:8080/"
        },
        "id": "ENX7lCg3Ido4",
        "outputId": "4a97991f-9299-47c0-ec4e-96dee16132ae"
      },
      "outputs": [
        {
          "output_type": "stream",
          "name": "stdout",
          "text": [
            "Model: \"sequential_6\"\n",
            "_________________________________________________________________\n",
            " Layer (type)                Output Shape              Param #   \n",
            "=================================================================\n",
            " dense_30 (Dense)            (None, 256)               6656      \n",
            "                                                                 \n",
            " dense_31 (Dense)            (None, 512)               131584    \n",
            "                                                                 \n",
            " dense_32 (Dense)            (None, 1024)              525312    \n",
            "                                                                 \n",
            " dense_33 (Dense)            (None, 512)               524800    \n",
            "                                                                 \n",
            " dense_34 (Dense)            (None, 256)               131328    \n",
            "                                                                 \n",
            " OUTPUT (Dense)              (None, 2)                 514       \n",
            "                                                                 \n",
            "=================================================================\n",
            "Total params: 1,320,194\n",
            "Trainable params: 1,320,194\n",
            "Non-trainable params: 0\n",
            "_________________________________________________________________\n"
          ]
        }
      ],
      "source": [
        "# Create a Deep Network\n",
        "#aqui creo mi modelo DNN\n",
        "#antes definíamos las capas y las iterabamos y conectabamos con h\n",
        "#esta nueva forma, en vez de importar model, ocupamos sequential\n",
        "#definimos un modelo tipo sequential: tienen la función add (con la q agregas capas\n",
        "#le agrego el input, luego las capas intermedias relu, lo que sale de la primera input\n",
        "#se pasa a la siguiente)\n",
        "#si lo comparas con el código anterior, es el mismo modelo, pero es otra forma de construirlo\n",
        "#esta forma es más fácil porq solo agregas add\n",
        "\n",
        "DNN = Sequential()\n",
        "DNN.add(Input(shape=X.shape[1:], name='INPUT'))\n",
        "#tú le agregas las unidades de perceptrones y puedes cambiar la función de activación\n",
        "DNN.add(Dense(units=256, activation='relu'))\n",
        "DNN.add(Dense(units=512, activation='sigmoid'))\n",
        "DNN.add(Dense(units=1024, activation='sigmoid'))\n",
        "DNN.add(Dense(units=512, activation='sigmoid'))\n",
        "DNN.add(Dense(units=256, activation='sigmoid'))\n",
        "\n",
        "DNN.add(Dense(units=Y.shape[1], activation='linear', name='OUTPUT'))\n",
        "\n",
        "DNN.summary()"
      ]
    },
    {
      "cell_type": "code",
      "execution_count": null,
      "metadata": {
        "id": "Y8TlQWPOVfxw"
      },
      "outputs": [],
      "source": [
        "# Define training parameters\"\n",
        "# Option 1:\n",
        "#from tensorflow.keras.optimizers import SGD\n",
        "#sgd = SGD(learning_rate=0.02, momentum=0.6)\n",
        "#DNN.compile(optimizer=\"sgd\", loss='mse')\n",
        "\n",
        "\n",
        "# Option 2:\n",
        "DNN.compile(optimizer='adam', loss='mse') #definimos la función compile y aquí meto el optimizador q quiero\n",
        "#función de error mean squared error\n",
        "#\"sgd, RMSprop\" etc\n",
        "# Try with different optimizers\n",
        "\n",
        "#la otra forma es combinar puedo desde el tensorflow\n",
        "#DNN.compile(optimizer=???, loss='mse')\n",
        "#fueron 200 epocas"
      ]
    },
    {
      "cell_type": "code",
      "execution_count": null,
      "metadata": {
        "colab": {
          "base_uri": "https://localhost:8080/"
        },
        "id": "cXaSP7HIVhTK",
        "outputId": "14b8ff16-e8d3-4a9e-c0b7-e70c1fedadcd"
      },
      "outputs": [
        {
          "output_type": "stream",
          "name": "stdout",
          "text": [
            "Epoch 1/100\n",
            "851/851 [==============================] - 5s 5ms/step - loss: 0.6902 - val_loss: 0.6088\n",
            "Epoch 2/100\n",
            "851/851 [==============================] - 4s 5ms/step - loss: 0.5774 - val_loss: 0.5885\n",
            "Epoch 3/100\n",
            "851/851 [==============================] - 4s 5ms/step - loss: 0.5373 - val_loss: 0.5407\n",
            "Epoch 4/100\n",
            "851/851 [==============================] - 4s 5ms/step - loss: 0.4926 - val_loss: 0.4775\n",
            "Epoch 5/100\n",
            "851/851 [==============================] - 4s 5ms/step - loss: 0.4615 - val_loss: 0.4719\n",
            "Epoch 6/100\n",
            "851/851 [==============================] - 4s 5ms/step - loss: 0.4376 - val_loss: 0.4384\n",
            "Epoch 7/100\n",
            "851/851 [==============================] - 4s 5ms/step - loss: 0.4238 - val_loss: 0.4248\n",
            "Epoch 8/100\n",
            "851/851 [==============================] - 4s 5ms/step - loss: 0.4090 - val_loss: 0.4144\n",
            "Epoch 9/100\n",
            "851/851 [==============================] - 4s 5ms/step - loss: 0.3966 - val_loss: 0.4453\n",
            "Epoch 10/100\n",
            "851/851 [==============================] - 4s 5ms/step - loss: 0.3850 - val_loss: 0.4071\n",
            "Epoch 11/100\n",
            "851/851 [==============================] - 4s 5ms/step - loss: 0.3727 - val_loss: 0.3777\n",
            "Epoch 12/100\n",
            "851/851 [==============================] - 4s 5ms/step - loss: 0.3597 - val_loss: 0.3854\n",
            "Epoch 13/100\n",
            "851/851 [==============================] - 4s 5ms/step - loss: 0.3475 - val_loss: 0.3829\n",
            "Epoch 14/100\n",
            "851/851 [==============================] - 4s 5ms/step - loss: 0.3400 - val_loss: 0.3693\n",
            "Epoch 15/100\n",
            "851/851 [==============================] - 4s 5ms/step - loss: 0.3286 - val_loss: 0.3475\n",
            "Epoch 16/100\n",
            "851/851 [==============================] - 4s 5ms/step - loss: 0.3195 - val_loss: 0.3638\n",
            "Epoch 17/100\n",
            "851/851 [==============================] - 4s 5ms/step - loss: 0.3119 - val_loss: 0.3568\n",
            "Epoch 18/100\n",
            "851/851 [==============================] - 4s 5ms/step - loss: 0.3010 - val_loss: 0.3766\n",
            "Epoch 19/100\n",
            "851/851 [==============================] - 4s 5ms/step - loss: 0.2976 - val_loss: 0.3341\n",
            "Epoch 20/100\n",
            "851/851 [==============================] - 4s 5ms/step - loss: 0.2868 - val_loss: 0.3522\n",
            "Epoch 21/100\n",
            "851/851 [==============================] - 4s 5ms/step - loss: 0.2778 - val_loss: 0.3343\n",
            "Epoch 22/100\n",
            "851/851 [==============================] - 5s 6ms/step - loss: 0.2726 - val_loss: 0.3500\n",
            "Epoch 23/100\n",
            "851/851 [==============================] - 4s 5ms/step - loss: 0.2641 - val_loss: 0.3263\n",
            "Epoch 24/100\n",
            "851/851 [==============================] - 5s 6ms/step - loss: 0.2539 - val_loss: 0.3235\n",
            "Epoch 25/100\n",
            "851/851 [==============================] - 4s 5ms/step - loss: 0.2448 - val_loss: 0.3210\n",
            "Epoch 26/100\n",
            "851/851 [==============================] - 4s 5ms/step - loss: 0.2420 - val_loss: 0.3083\n",
            "Epoch 27/100\n",
            "851/851 [==============================] - 4s 5ms/step - loss: 0.2332 - val_loss: 0.3091\n",
            "Epoch 28/100\n",
            "851/851 [==============================] - 4s 5ms/step - loss: 0.2267 - val_loss: 0.3084\n",
            "Epoch 29/100\n",
            "851/851 [==============================] - 4s 5ms/step - loss: 0.2250 - val_loss: 0.3069\n",
            "Epoch 30/100\n",
            "851/851 [==============================] - 4s 5ms/step - loss: 0.2105 - val_loss: 0.3039\n",
            "Epoch 31/100\n",
            "851/851 [==============================] - 4s 5ms/step - loss: 0.2076 - val_loss: 0.2949\n",
            "Epoch 32/100\n",
            "851/851 [==============================] - 4s 5ms/step - loss: 0.2017 - val_loss: 0.2928\n",
            "Epoch 33/100\n",
            "851/851 [==============================] - 4s 5ms/step - loss: 0.1955 - val_loss: 0.2901\n",
            "Epoch 34/100\n",
            "851/851 [==============================] - 4s 5ms/step - loss: 0.1877 - val_loss: 0.2802\n",
            "Epoch 35/100\n",
            "851/851 [==============================] - 4s 5ms/step - loss: 0.1819 - val_loss: 0.2998\n",
            "Epoch 36/100\n",
            "851/851 [==============================] - 4s 5ms/step - loss: 0.1750 - val_loss: 0.2837\n",
            "Epoch 37/100\n",
            "851/851 [==============================] - 4s 5ms/step - loss: 0.1685 - val_loss: 0.2794\n",
            "Epoch 38/100\n",
            "851/851 [==============================] - 4s 5ms/step - loss: 0.1627 - val_loss: 0.2741\n",
            "Epoch 39/100\n",
            "851/851 [==============================] - 4s 5ms/step - loss: 0.1578 - val_loss: 0.2760\n",
            "Epoch 40/100\n",
            "851/851 [==============================] - 4s 5ms/step - loss: 0.1507 - val_loss: 0.3147\n",
            "Epoch 41/100\n",
            "851/851 [==============================] - 4s 5ms/step - loss: 0.1458 - val_loss: 0.2738\n",
            "Epoch 42/100\n",
            "851/851 [==============================] - 4s 5ms/step - loss: 0.1417 - val_loss: 0.2767\n",
            "Epoch 43/100\n",
            "851/851 [==============================] - 4s 5ms/step - loss: 0.1399 - val_loss: 0.2573\n",
            "Epoch 44/100\n",
            "851/851 [==============================] - 4s 5ms/step - loss: 0.1342 - val_loss: 0.2591\n",
            "Epoch 45/100\n",
            "851/851 [==============================] - 4s 5ms/step - loss: 0.1242 - val_loss: 0.2672\n",
            "Epoch 46/100\n",
            "851/851 [==============================] - 4s 5ms/step - loss: 0.1221 - val_loss: 0.2638\n",
            "Epoch 47/100\n",
            "851/851 [==============================] - 4s 5ms/step - loss: 0.1154 - val_loss: 0.2500\n",
            "Epoch 48/100\n",
            "851/851 [==============================] - 4s 5ms/step - loss: 0.1123 - val_loss: 0.2667\n",
            "Epoch 49/100\n",
            "851/851 [==============================] - 4s 5ms/step - loss: 0.1089 - val_loss: 0.2531\n",
            "Epoch 50/100\n",
            "851/851 [==============================] - 4s 5ms/step - loss: 0.1053 - val_loss: 0.2390\n",
            "Epoch 51/100\n",
            "851/851 [==============================] - 4s 5ms/step - loss: 0.0995 - val_loss: 0.2478\n",
            "Epoch 52/100\n",
            "851/851 [==============================] - 4s 5ms/step - loss: 0.0961 - val_loss: 0.2494\n",
            "Epoch 53/100\n",
            "851/851 [==============================] - 4s 5ms/step - loss: 0.0932 - val_loss: 0.2564\n",
            "Epoch 54/100\n",
            "851/851 [==============================] - 4s 5ms/step - loss: 0.0885 - val_loss: 0.2485\n",
            "Epoch 55/100\n",
            "851/851 [==============================] - 4s 5ms/step - loss: 0.0845 - val_loss: 0.2477\n",
            "Epoch 56/100\n",
            "851/851 [==============================] - 4s 5ms/step - loss: 0.0821 - val_loss: 0.2425\n",
            "Epoch 57/100\n",
            "851/851 [==============================] - 4s 5ms/step - loss: 0.0803 - val_loss: 0.2575\n",
            "Epoch 58/100\n",
            "851/851 [==============================] - 4s 5ms/step - loss: 0.0749 - val_loss: 0.2350\n",
            "Epoch 59/100\n",
            "851/851 [==============================] - 4s 5ms/step - loss: 0.0716 - val_loss: 0.2415\n",
            "Epoch 60/100\n",
            "851/851 [==============================] - 4s 5ms/step - loss: 0.0716 - val_loss: 0.2408\n",
            "Epoch 61/100\n",
            "851/851 [==============================] - 4s 5ms/step - loss: 0.0672 - val_loss: 0.2331\n",
            "Epoch 62/100\n",
            "851/851 [==============================] - 4s 5ms/step - loss: 0.0644 - val_loss: 0.2313\n",
            "Epoch 63/100\n",
            "851/851 [==============================] - 4s 5ms/step - loss: 0.0594 - val_loss: 0.2471\n",
            "Epoch 64/100\n",
            "851/851 [==============================] - 4s 5ms/step - loss: 0.0616 - val_loss: 0.2302\n",
            "Epoch 65/100\n",
            "851/851 [==============================] - 4s 5ms/step - loss: 0.0565 - val_loss: 0.2338\n",
            "Epoch 66/100\n",
            "851/851 [==============================] - 4s 5ms/step - loss: 0.0544 - val_loss: 0.2390\n",
            "Epoch 67/100\n",
            "851/851 [==============================] - 4s 5ms/step - loss: 0.0568 - val_loss: 0.2317\n",
            "Epoch 68/100\n",
            "851/851 [==============================] - 4s 5ms/step - loss: 0.0528 - val_loss: 0.2373\n",
            "Epoch 69/100\n",
            "851/851 [==============================] - 4s 5ms/step - loss: 0.0519 - val_loss: 0.2286\n",
            "Epoch 70/100\n",
            "851/851 [==============================] - 4s 5ms/step - loss: 0.0474 - val_loss: 0.2411\n",
            "Epoch 71/100\n",
            "851/851 [==============================] - 4s 5ms/step - loss: 0.0466 - val_loss: 0.2354\n",
            "Epoch 72/100\n",
            "851/851 [==============================] - 4s 5ms/step - loss: 0.0458 - val_loss: 0.2377\n",
            "Epoch 73/100\n",
            "851/851 [==============================] - 4s 5ms/step - loss: 0.0425 - val_loss: 0.2369\n",
            "Epoch 74/100\n",
            "851/851 [==============================] - 4s 5ms/step - loss: 0.0451 - val_loss: 0.2529\n",
            "Epoch 75/100\n",
            "851/851 [==============================] - 4s 5ms/step - loss: 0.0412 - val_loss: 0.2303\n",
            "Epoch 76/100\n",
            "851/851 [==============================] - 4s 5ms/step - loss: 0.0381 - val_loss: 0.2319\n",
            "Epoch 77/100\n",
            "851/851 [==============================] - 4s 5ms/step - loss: 0.0361 - val_loss: 0.2363\n",
            "Epoch 78/100\n",
            "851/851 [==============================] - 4s 5ms/step - loss: 0.0366 - val_loss: 0.2364\n",
            "Epoch 79/100\n",
            "851/851 [==============================] - 4s 5ms/step - loss: 0.0356 - val_loss: 0.2370\n",
            "Epoch 80/100\n",
            "851/851 [==============================] - 4s 5ms/step - loss: 0.0359 - val_loss: 0.2291\n",
            "Epoch 81/100\n",
            "851/851 [==============================] - 4s 5ms/step - loss: 0.0350 - val_loss: 0.2423\n",
            "Epoch 82/100\n",
            "851/851 [==============================] - 4s 5ms/step - loss: 0.0334 - val_loss: 0.2212\n",
            "Epoch 83/100\n",
            "851/851 [==============================] - 4s 5ms/step - loss: 0.0318 - val_loss: 0.2264\n",
            "Epoch 84/100\n",
            "851/851 [==============================] - 4s 5ms/step - loss: 0.0351 - val_loss: 0.2279\n",
            "Epoch 85/100\n",
            "851/851 [==============================] - 4s 5ms/step - loss: 0.0318 - val_loss: 0.2308\n",
            "Epoch 86/100\n",
            "851/851 [==============================] - 4s 5ms/step - loss: 0.0303 - val_loss: 0.2211\n",
            "Epoch 87/100\n",
            "851/851 [==============================] - 4s 5ms/step - loss: 0.0254 - val_loss: 0.2290\n",
            "Epoch 88/100\n",
            "851/851 [==============================] - 4s 5ms/step - loss: 0.0273 - val_loss: 0.2243\n",
            "Epoch 89/100\n",
            "851/851 [==============================] - 4s 5ms/step - loss: 0.0290 - val_loss: 0.2265\n",
            "Epoch 90/100\n",
            "851/851 [==============================] - 4s 5ms/step - loss: 0.0265 - val_loss: 0.2252\n",
            "Epoch 91/100\n",
            "851/851 [==============================] - 4s 5ms/step - loss: 0.0272 - val_loss: 0.2219\n",
            "Epoch 92/100\n",
            "851/851 [==============================] - 4s 5ms/step - loss: 0.0280 - val_loss: 0.2342\n",
            "Epoch 93/100\n",
            "851/851 [==============================] - 4s 5ms/step - loss: 0.0270 - val_loss: 0.2325\n",
            "Epoch 94/100\n",
            "851/851 [==============================] - 4s 5ms/step - loss: 0.0252 - val_loss: 0.2288\n",
            "Epoch 95/100\n",
            "851/851 [==============================] - 4s 5ms/step - loss: 0.0234 - val_loss: 0.2222\n",
            "Epoch 96/100\n",
            "851/851 [==============================] - 4s 5ms/step - loss: 0.0229 - val_loss: 0.2266\n",
            "Epoch 97/100\n",
            "851/851 [==============================] - 4s 5ms/step - loss: 0.0219 - val_loss: 0.2308\n",
            "Epoch 98/100\n",
            "851/851 [==============================] - 4s 5ms/step - loss: 0.0220 - val_loss: 0.2303\n",
            "Epoch 99/100\n",
            "851/851 [==============================] - 4s 5ms/step - loss: 0.0259 - val_loss: 0.2265\n",
            "Epoch 100/100\n",
            "851/851 [==============================] - 4s 5ms/step - loss: 0.0191 - val_loss: 0.2234\n"
          ]
        }
      ],
      "source": [
        "# Train model\n",
        "history = DNN.fit(x=x_train, y=y_train, batch_size=32, epochs=100, validation_split=0.1)\n",
        "#batch_size=32, epochs=200"
      ]
    },
    {
      "cell_type": "code",
      "execution_count": null,
      "metadata": {
        "colab": {
          "base_uri": "https://localhost:8080/",
          "height": 334
        },
        "id": "sun9_RyLYzMM",
        "outputId": "df8bb2b8-3526-4797-fa5e-59925e09ebd7"
      },
      "outputs": [
        {
          "output_type": "display_data",
          "data": {
            "image/png": "[encoded data removed]",
            "text/plain": [
              "<Figure size 864x360 with 1 Axes>"
            ]
          },
          "metadata": {
            "needs_background": "light"
          }
        }
      ],
      "source": [
        "# Plot loss\n",
        "plt.figure(figsize=(12, 5))\n",
        "plt.plot(DNN.history.history['loss'], label='Training', linewidth=2)\n",
        "plt.plot(DNN.history.history['val_loss'], label='Validation', linewidth=2)\n",
        "plt.legend()\n",
        "plt.xlabel('Epoch')\n",
        "plt.ylabel('Loss')\n",
        "plt.grid(True)\n",
        "plt.show()\n",
        "#la gráfica muestra overfitting\n",
        "#el hiperplano está grande pues ocupamos una aproximación de grad\n",
        "#Lo que pasa es que la validación no se ajustó al training parece que no generaliza.\n",
        "#pero esto tal vez no nos interese mucho pues lo que queremos es buscar la distribución."
      ]
    },
    {
      "cell_type": "code",
      "execution_count": null,
      "metadata": {
        "colab": {
          "base_uri": "https://localhost:8080/"
        },
        "id": "IJVCymAmcIB_",
        "outputId": "76c91ad3-4cf9-4596-8126-d167931c98de"
      },
      "outputs": [
        {
          "output_type": "stream",
          "name": "stdout",
          "text": [
            "Generalization loss: 0.9145%\n"
          ]
        }
      ],
      "source": [
        "# Generalization metric (opcional)\n",
        "min_loss = np.min([DNN.history.history['loss'][-1], DNN.history.history['val_loss'][-1]])\n",
        "max_loss = np.max([DNN.history.history['loss'][-1], DNN.history.history['val_loss'][-1]])\n",
        "general_loss = (max_loss - min_loss) / max_loss\n",
        "print(f\"Generalization loss: {general_loss:6.4f}%\")\n",
        "#DNN.history.history es una lista de los errores históricos\n",
        "#dame el desempeño del error al final de la última época, dámelo para la perdida loss y para la validation loss\n",
        "#etnonces dame el último punto amarillo y el último azul\n",
        "#dime cuál es el mín y el max.\n",
        "#generalization loss es la distancia entre el último punto amarillo y el azul entre el max loss (es en porcentaje)\n",
        "#qué proporción es la distancia, quisiera que fuera 0. Lo divido entre un parámetro fijo para que sea porcentaje\n",
        "#podríamos hacer la distancia en valor absoluto.\n",
        "#El max_loss de la división solo es para verlo en porcentaje. ,tmb puede ser el mínimo.\n",
        "#es el error de generalización.\n",
        "#es un eror de la última época."
      ]
    },
    {
      "cell_type": "code",
      "execution_count": null,
      "metadata": {
        "colab": {
          "base_uri": "https://localhost:8080/"
        },
        "id": "jqWaiy_fb0-x",
        "outputId": "adc32c5f-5a71-4e5f-bd51-2a6a3f3c5261"
      },
      "outputs": [
        {
          "output_type": "stream",
          "name": "stdout",
          "text": [
            "Test loss: 0.20556622743606567\n"
          ]
        }
      ],
      "source": [
        "# Compute test loss\n",
        "loss_test = DNN.evaluate(x=x_test, y=y_test, verbose=False)\n",
        "print(\"Test loss:\", loss_test)\n",
        "#qué tan mala fue la predicción (si es 0.0 fue una super predicción)"
      ]
    },
    {
      "cell_type": "code",
      "execution_count": null,
      "metadata": {
        "colab": {
          "base_uri": "https://localhost:8080/"
        },
        "id": "lQxF7hMCb8Cp",
        "outputId": "eb6db609-eff2-4419-b7db-0484959b68e0"
      },
      "outputs": [
        {
          "output_type": "stream",
          "name": "stdout",
          "text": [
            "(1591, 2)\n"
          ]
        }
      ],
      "source": [
        "# Predict on test set\n",
        "y_test_hat = DNN.predict(x=x_test)\n",
        "print(y_test_hat.shape)\n",
        "#calculo las predicciones para el nuevo set, de los puntos azules"
      ]
    },
    {
      "cell_type": "code",
      "execution_count": null,
      "metadata": {
        "colab": {
          "base_uri": "https://localhost:8080/",
          "height": 295
        },
        "id": "tfAf4cIqcGyQ",
        "outputId": "f279f236-3608-4caf-cffa-0f38595539bc"
      },
      "outputs": [
        {
          "output_type": "display_data",
          "data": {
            "image/png": "[encoded data removed]",
            "text/plain": [
              "<Figure size 432x288 with 1 Axes>"
            ]
          },
          "metadata": {
            "needs_background": "light"
          }
        }
      ],
      "source": [
        "# Plot y_test_hat\n",
        "indx = np.random.permutation(len(y_test))[:500]\n",
        "plt.scatter(y_test[indx, 0], y_test[indx, 1], c='b', label='y')\n",
        "plt.scatter(y_test_hat[indx, 0], y_test_hat[indx, 1], c='r', marker='+', label='y_h')\n",
        "\n",
        "plt.legend()\n",
        "plt.grid(True)\n",
        "plt.xlabel('PM2.5')\n",
        "plt.ylabel('NO2')\n",
        "plt.title('Test set and its predictions')\n",
        "plt.show()\n",
        "\n",
        "#uno es el ground truth y otro es la predicción (las cruces rojas son mis pronósticos)\n",
        "#el reto es ver si podemos aprender cada punto\n",
        "#estos puntos no lo vimos en entrenamiento"
      ]
    },
    {
      "cell_type": "code",
      "execution_count": null,
      "metadata": {
        "colab": {
          "base_uri": "https://localhost:8080/"
        },
        "id": "euURHYHPQ9B3",
        "outputId": "eee943c6-a73a-44e6-dc45-464f2cc70fab"
      },
      "outputs": [
        {
          "output_type": "stream",
          "name": "stdout",
          "text": [
            "tf.Tensor([0.8726551  0.84456766], shape=(2,), dtype=float32)\n"
          ]
        }
      ],
      "source": [
        "import tensorflow as tf\n",
        "import tensorflow_probability as tfp\n",
        "\n",
        "corr = tfp.stats.correlation(y_test.astype(np.float32), y_test_hat.astype(np.float32),sample_axis=0, event_axis=None)\n",
        "#x es ground truth\n",
        "#y predicción\n",
        "print(corr)"
      ]
    },
    {
      "cell_type": "code",
      "source": [
        "y_test_hat"
      ],
      "metadata": {
        "colab": {
          "base_uri": "https://localhost:8080/"
        },
        "id": "XZ8Rq94VeiH0",
        "outputId": "3cad9a55-cc35-4982-9260-0e89df5f04e6"
      },
      "execution_count": null,
      "outputs": [
        {
          "output_type": "execute_result",
          "data": {
            "text/plain": [
              "array([[ 0.6233943 , -0.09042225],\n",
              "       [-0.5473381 ,  0.5994589 ],\n",
              "       [-0.14650556,  0.31749862],\n",
              "       ...,\n",
              "       [ 0.03588168,  0.6543788 ],\n",
              "       [-0.23734114, -0.6818922 ],\n",
              "       [-0.4110054 ,  0.177071  ]], dtype=float32)"
            ]
          },
          "metadata": {},
          "execution_count": 23
        }
      ]
    },
    {
      "cell_type": "code",
      "source": [
        "\n",
        "\n",
        "DNN.compile(optimizer='adam', loss='mse')\n",
        "# Train model\n",
        "history = DNN.fit(x=x_train, y=y_train, batch_size=32, epochs=100, validation_split=0.1)"
      ],
      "metadata": {
        "id": "AMrHLnKedsVI"
      },
      "execution_count": null,
      "outputs": []
    }
  ],
  "metadata": {
    "accelerator": "GPU",
    "colab": {
      "provenance": [],
      "include_colab_link": true
    },
    "kernelspec": {
      "display_name": "Python 3",
      "name": "python3"
    }
  },
  "nbformat": 4,
  "nbformat_minor": 0
}